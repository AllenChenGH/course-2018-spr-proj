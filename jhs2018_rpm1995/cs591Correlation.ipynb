{
 "cells": [
  {
   "cell_type": "code",
   "execution_count": 90,
   "metadata": {},
   "outputs": [],
   "source": [
    "import dml\n",
    "from pymongo import MongoClient\n",
    "import pandas as pd\n",
    "from scipy.stats.stats import pearsonr  \n",
    "from sklearn.preprocessing import MinMaxScaler\n",
    "from sklearn.cluster import KMeans\n",
    "import numpy as np"
   ]
  },
  {
   "cell_type": "code",
   "execution_count": 106,
   "metadata": {},
   "outputs": [],
   "source": [
    "client = MongoClient()\n",
    "db = client.repo\n",
    "collection = db.jhs2018_rpm1995.kmeansdata\n",
    "df = pd.DataFrame(list(collection.find()))\n",
    "df = df[(df.charge_count != 0)|(df.hubway_count != 0)|(df.open_count != 0)]\n",
    "df = df.reset_index()\n",
    "latitude = [0]*len(df)\n",
    "longitude = [0]*len(df)\n",
    "for i in range(len(df)):\n",
    "    latitude[i] = df['coordinates'][i][0]\n",
    "    longitude[i] = df['coordinates'][i][1]\n",
    "    \n",
    "\n",
    "df['latitude'] = latitude\n",
    "df['longitude']= longitude\n",
    "#df['reallat'] = reallat\n",
    "#df['reallong'] = reallong\n",
    "df = df[(df.charge_count != 0)|(df.hubway_count != 0)|(df.open_count != 0)]\n",
    "\n",
    "df[['charge_count','hubway_count','open_count','latitude','longitude']] = MinMaxScaler().fit_transform(df[['charge_count','hubway_count','open_count','latitude','longitude']])\n",
    "\n",
    "df['latitude'] = df.latitude + 1.0\n",
    "df['longitude'] = df.longitude + 1.0\n",
    "df['charge_count'] = df.charge_count\n",
    "df['hubway_count'] = dft.hubway_count\n",
    "df['open_count'] = df.open_count\n",
    "#df = df.reset_index()\n"
   ]
  },
  {
   "cell_type": "code",
   "execution_count": 120,
   "metadata": {},
   "outputs": [],
   "source": [
    "y_pred = KMeans(n_clusters = 8, random_state = 0)\n",
    "y_pred = y_pred.fit_predict(df[['charge_count','hubway_count','open_count','latitude','longitude']])\n",
    "\n",
    "df['clusters'] = y_pred\n",
    "\n",
    "budgets = df.groupby('clusters')['budget'].apply(list)\n",
    "open_count = df.groupby('clusters')['open_count'].apply(list)\n",
    "\n",
    "hubway_count = df.groupby('clusters')['hubway_count'].apply(list)\n",
    "charge_count = df.groupby('clusters')['charge_count'].apply(list)\n",
    "\n",
    "tree_count = df.groupby('clusters')['tree_count'].apply(list)\n",
    "#print(pearsonr(open_count,budget))"
   ]
  },
  {
   "cell_type": "code",
   "execution_count": 121,
   "metadata": {},
   "outputs": [
    {
     "name": "stdout",
     "output_type": "stream",
     "text": [
      "(0.1848541471276422, 0.23534157363172278)\n",
      "(-0.05924721033325769, 0.8096084792087838)\n",
      "(0.5333145295245244, 0.004175836372515903)\n",
      "(-0.14480639315384883, 0.3425846759458493)\n",
      "(-0.008386355445558694, 0.9704532122936871)\n",
      "(0.39304674142460766, 0.03492303274763899)\n",
      "(nan, nan)\n",
      "(0.3202563076101743, 0.2445392170835299)\n"
     ]
    },
    {
     "name": "stderr",
     "output_type": "stream",
     "text": [
      "C:\\Users\\Jonathan\\Anaconda2\\envs\\py36\\lib\\site-packages\\scipy\\stats\\stats.py:3003: RuntimeWarning: invalid value encountered in double_scalars\n",
      "  r = r_num / r_den\n",
      "C:\\Users\\Jonathan\\Anaconda2\\envs\\py36\\lib\\site-packages\\scipy\\stats\\stats.py:5240: RuntimeWarning: invalid value encountered in less\n",
      "  x = np.where(x < 1.0, x, 1.0)  # if x > 1 then return 1.0\n"
     ]
    }
   ],
   "source": [
    "for i in range(len(budgets)):\n",
    "    print (pearsonr(open_count[i], budgets[i]))"
   ]
  },
  {
   "cell_type": "code",
   "execution_count": 98,
   "metadata": {},
   "outputs": [],
   "source": [
    "def get_means_for_clusters(listvalues):\n",
    "    means = []\n",
    "    for listval in listvalues:\n",
    "        means.append(np.mean(listval))\n",
    "    return means\n",
    "budgetmeans = get_means_for_clusters(budgets)\n",
    "openspacemeans = get_means_for_clusters(open_count)\n",
    "treecountmeans = get_means_for_clusters(tree_count)"
   ]
  },
  {
   "cell_type": "code",
   "execution_count": 99,
   "metadata": {},
   "outputs": [
    {
     "name": "stdout",
     "output_type": "stream",
     "text": [
      "(0.21806182795867107, 0.5194837916721345)\n"
     ]
    }
   ],
   "source": [
    "print (pearsonr(budgetmeans, tree_count))"
   ]
  },
  {
   "cell_type": "code",
   "execution_count": null,
   "metadata": {},
   "outputs": [],
   "source": []
  }
 ],
 "metadata": {
  "kernelspec": {
   "display_name": "Python [conda env:py36]",
   "language": "python",
   "name": "conda-env-py36-py"
  },
  "language_info": {
   "codemirror_mode": {
    "name": "ipython",
    "version": 3
   },
   "file_extension": ".py",
   "mimetype": "text/x-python",
   "name": "python",
   "nbconvert_exporter": "python",
   "pygments_lexer": "ipython3",
   "version": "3.6.4"
  }
 },
 "nbformat": 4,
 "nbformat_minor": 2
}
