{
 "cells": [
  {
   "cell_type": "markdown",
   "metadata": {},
   "source": [
    "### CS591-L1 2018-Spring Term Project<br/>Visualization - Surrounding Facilities for Crash Accidents\n",
    "\n",
    "The following code shows how to generate histogram about gathered information from traffic crash accident dataset.\n",
    "\n",
    "In our testing some unprecedented result may happen when using graph saving functions in matplot, so we suggest that to save genearted images, just plot on the notebook, right click on the image, then select \"save image\"."
   ]
  },
  {
   "cell_type": "code",
   "execution_count": 1,
   "metadata": {},
   "outputs": [],
   "source": [
    "# Library import\n",
    "# Note that you also need to install 'seaborn' library to support the plot theme used in this code.\n",
    "import numpy as np\n",
    "import matplotlib.pyplot as plt\n",
    "import pymongo\n",
    "import pandas as pd"
   ]
  },
  {
   "cell_type": "code",
   "execution_count": 2,
   "metadata": {},
   "outputs": [
    {
     "data": {
      "text/plain": [
       "True"
      ]
     },
     "execution_count": 2,
     "metadata": {},
     "output_type": "execute_result"
    }
   ],
   "source": [
    "# Login mongodb\n",
    "client = pymongo.MongoClient()\n",
    "repo = client.repo\n",
    "repo.authenticate('liwang_pyhsieh', 'liwang_pyhsieh')"
   ]
  },
  {
   "cell_type": "code",
   "execution_count": 3,
   "metadata": {},
   "outputs": [
    {
     "name": "stderr",
     "output_type": "stream",
     "text": [
      "/Users/hpy-kenny/anaconda/lib/python3.6/site-packages/ipykernel_launcher.py:3: DeprecationWarning: Database.logout() is deprecated\n",
      "  This is separate from the ipykernel package so we can avoid doing imports until\n"
     ]
    }
   ],
   "source": [
    "# Load the dataset and logout\n",
    "database = [x for x in repo['liwang_pyhsieh.joined_crash_analysis'].find()]\n",
    "repo.logout() # It's safer to add logout call, although jupyter notebook might not require to do so"
   ]
  },
  {
   "cell_type": "code",
   "execution_count": 4,
   "metadata": {},
   "outputs": [],
   "source": [
    "# 'joined_crash_analysis' collects most of our analysis result.\n",
    "# If you want to generate graph of other information, just feel free to modify code here and belows.\n",
    "db_mig = []\n",
    "for x in database:\n",
    "    db_mig.append([x[\"_id\"], x[\"time\"].hour, x[\"accident_density\"], x[\"nearby_lights\"], x[\"nearby_signals\"]])\n",
    "cols = [\"_id\", \"time\", \"accident_density\", \"nearby_lights\", \"nearby_signals\"]\n",
    "\n",
    "df_database = pd.DataFrame.from_records(db_mig, columns=cols, index=\"_id\")\n"
   ]
  },
  {
   "cell_type": "code",
   "execution_count": 5,
   "metadata": {},
   "outputs": [
    {
     "data": {
      "text/html": [
       "<div>\n",
       "<style scoped>\n",
       "    .dataframe tbody tr th:only-of-type {\n",
       "        vertical-align: middle;\n",
       "    }\n",
       "\n",
       "    .dataframe tbody tr th {\n",
       "        vertical-align: top;\n",
       "    }\n",
       "\n",
       "    .dataframe thead th {\n",
       "        text-align: right;\n",
       "    }\n",
       "</style>\n",
       "<table border=\"1\" class=\"dataframe\">\n",
       "  <thead>\n",
       "    <tr style=\"text-align: right;\">\n",
       "      <th></th>\n",
       "      <th>time</th>\n",
       "      <th>accident_density</th>\n",
       "      <th>nearby_lights</th>\n",
       "      <th>nearby_signals</th>\n",
       "    </tr>\n",
       "    <tr>\n",
       "      <th>_id</th>\n",
       "      <th></th>\n",
       "      <th></th>\n",
       "      <th></th>\n",
       "      <th></th>\n",
       "    </tr>\n",
       "  </thead>\n",
       "  <tbody>\n",
       "    <tr>\n",
       "      <th>3989560</th>\n",
       "      <td>19</td>\n",
       "      <td>5</td>\n",
       "      <td>0</td>\n",
       "      <td>0</td>\n",
       "    </tr>\n",
       "    <tr>\n",
       "      <th>3990982</th>\n",
       "      <td>20</td>\n",
       "      <td>0</td>\n",
       "      <td>0</td>\n",
       "      <td>0</td>\n",
       "    </tr>\n",
       "    <tr>\n",
       "      <th>3990983</th>\n",
       "      <td>22</td>\n",
       "      <td>33</td>\n",
       "      <td>3</td>\n",
       "      <td>0</td>\n",
       "    </tr>\n",
       "    <tr>\n",
       "      <th>3990985</th>\n",
       "      <td>18</td>\n",
       "      <td>11</td>\n",
       "      <td>0</td>\n",
       "      <td>0</td>\n",
       "    </tr>\n",
       "    <tr>\n",
       "      <th>3990987</th>\n",
       "      <td>21</td>\n",
       "      <td>0</td>\n",
       "      <td>2</td>\n",
       "      <td>0</td>\n",
       "    </tr>\n",
       "  </tbody>\n",
       "</table>\n",
       "</div>"
      ],
      "text/plain": [
       "         time  accident_density  nearby_lights  nearby_signals\n",
       "_id                                                           \n",
       "3989560    19                 5              0               0\n",
       "3990982    20                 0              0               0\n",
       "3990983    22                33              3               0\n",
       "3990985    18                11              0               0\n",
       "3990987    21                 0              2               0"
      ]
     },
     "execution_count": 5,
     "metadata": {},
     "output_type": "execute_result"
    }
   ],
   "source": [
    "df_database.head()"
   ]
  },
  {
   "cell_type": "code",
   "execution_count": 8,
   "metadata": {
    "scrolled": false
   },
   "outputs": [
    {
     "data": {
      "image/png": "[encoded data removed]",
      "text/plain": [
       "<matplotlib.figure.Figure at 0x10f5a5d30>"
      ]
     },
     "metadata": {},
     "output_type": "display_data"
    }
   ],
   "source": [
    "# Plot the histogram. Here we only plot one as an example!\n",
    "\n",
    "# times = list(range(18, 24)) + list(range(0, 6))\n",
    "times = [18]\n",
    "plt.style.use('seaborn-poster')\n",
    "for t in times:\n",
    "    df_sample = df_database[df_database[\"time\"] == t]\n",
    "    sample_l = df_sample[\"nearby_lights\"]\n",
    "    sample_s = df_sample[\"nearby_signals\"]\n",
    "\n",
    "    tickmax_l = sample_l.max()\n",
    "    tickmax_s = sample_s.max()\n",
    "\n",
    "    tickmax_x = max(tickmax_l, tickmax_s)\n",
    "    \n",
    "    plt.hist([df_sample[\"nearby_lights\"], df_sample[\"nearby_signals\"]], bins=range(tickmax_x + 2))\n",
    "    \n",
    "    plt.title(\"Surrounding Facilities During %d:00 ~ %d:59\" % (t, t), fontsize=25)\n",
    "    plt.xlabel(\"Amount\", fontsize=20)\n",
    "    plt.ylabel(\"Number of Crash Cases\", fontsize=20)\n",
    "    plt.legend([\"Nearby Street Lights\", \"Nearby Traffic Signals\"])\n",
    "    plt.grid(True)\n",
    "    plt.xticks(range(tickmax_x + 1))\n",
    "    plt.show()"
   ]
  },
  {
   "cell_type": "code",
   "execution_count": null,
   "metadata": {},
   "outputs": [],
   "source": []
  }
 ],
 "metadata": {
  "kernelspec": {
   "display_name": "Python 3",
   "language": "python",
   "name": "python3"
  },
  "language_info": {
   "codemirror_mode": {
    "name": "ipython",
    "version": 3
   },
   "file_extension": ".py",
   "mimetype": "text/x-python",
   "name": "python",
   "nbconvert_exporter": "python",
   "pygments_lexer": "ipython3",
   "version": "3.6.3"
  }
 },
 "nbformat": 4,
 "nbformat_minor": 2
}
