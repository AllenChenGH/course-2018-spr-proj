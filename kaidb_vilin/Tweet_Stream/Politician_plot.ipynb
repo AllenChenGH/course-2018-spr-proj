{
 "cells": [
  {
   "cell_type": "code",
   "execution_count": null,
   "metadata": {},
   "outputs": [],
   "source": [
    "# Politican pipeline \n",
    "import plotly.plotly as py\n",
    "import pandas as pd\n",
    "import numpy as np\n",
    "import re\n",
    "from tqdm import tqdm_notebook as tqdm\n",
    "import pickle\n",
    "from bqplot import *\n",
    "from wordcloud import WordCloud, STOPWORDS\n",
    "from matplotlib import pyplot as plt\n",
    "#ht_df.Count\n",
    "from scipy.misc import imread\n",
    "\n"
   ]
  },
  {
   "cell_type": "code",
   "execution_count": null,
   "metadata": {},
   "outputs": [],
   "source": [
    "def hash_tag_sent_build(df):\n",
    "    hashtags = {}\n",
    "    hts = df.hashtags.values\n",
    "    pos_proba = df.pos_proba.values\n",
    "    classify_rat = 0\n",
    "    for i in tqdm(range(len(hts))):\n",
    "        tmp_tag = list(eval(hts[i]))\n",
    "        if len(tmp_tag) > 0:\n",
    "            classify_rat +=1\n",
    "            for j in tmp_tag:\n",
    "                if j not in hashtags:\n",
    "                    hashtags[j] = {0:0, 1:1, 'Count':0}\n",
    "                hashtags[j][0] += (1- pos_proba[i])\n",
    "                hashtags[j][1] += pos_proba[i]\n",
    "                hashtags[j]['Count']+=1\n",
    "    ret_df =  pd.DataFrame.from_dict(hashtags, orient='index').sort_values(\"Count\", ascending=False)\n",
    "    ret_df['pos'] = ret_df[1] / ( ret_df[0] +  ret_df[1])\n",
    "    ret_df['neg'] = ret_df[0]/( ret_df[0] +  ret_df[1])\n",
    "    return ret_df#.loc[ret_df[\"Count\"] > 1]\n"
   ]
  },
  {
   "cell_type": "code",
   "execution_count": null,
   "metadata": {},
   "outputs": [],
   "source": [
    "# set the user \n",
    "# Charlie Baker Example\n",
    "#user = 'MassGovernor'\n",
    "user = 'realDonaldTrump'\n",
    "#user = 'SenWarren'\n",
    "#user = 'BarackObama'\n",
    "#users = ['BarackObama', 'realDonaldTrump', 'MassGovernor','SenWarren' ]\n",
    "orientation = 'right'\n",
    "def make_cloud(user, orientation='right'):\n",
    "    data_file = '{}_sentiment_data.csv'.format(user)\n",
    "    hash_data = '{}_hashtags.pkl'.format(user)\n",
    "    macro_sent_data = '{}_sent_stats.pkl'.format(user)\n",
    "    data_path = '../Twitter_to_vec/user_tweets/'\n",
    "    # orientation of twitter image\n",
    "    df = pd.read_csv(data_path + user + \"/\" + data_file)\n",
    "    ht_df = hash_tag_sent_build(df)\n",
    "    twitter_mask = imread('./twitter_mask_{}.png'.format(orientation), flatten=True)\n",
    "    wordcloud = WordCloud(\n",
    "        background_color= None, #'#1dcaff',\n",
    "        font_path='/Library/Fonts/Arial.ttf',\n",
    "        relative_scaling =.25,\n",
    "        mode='RGBA',\n",
    "        max_words=2000,\n",
    "        width=1800,\n",
    "        height=1400,\n",
    "        colormap='Blues_r',\n",
    "        mask=twitter_mask,\n",
    "        max_font_size=40, \n",
    "        random_state=42,\n",
    "    ).generate_from_frequencies(dict(ht_df.Count))\n",
    "    print(wordcloud)\n",
    "    fig = plt.figure(figsize=(15,15))\n",
    "    plt.imshow(wordcloud, )\n",
    "    plt.axis('off')\n",
    "    plt.show()\n",
    "    fig.savefig( data_path + user + \"/\"+ \"{}_{}_word_cloud.png\".format(user, orientation), dpi=900, transparent=True)\n",
    "    return ht_df"
   ]
  },
  {
   "cell_type": "code",
   "execution_count": 4,
   "metadata": {},
   "outputs": [],
   "source": [
    "users = 'AustinScottGA08 SenatorEnzi RepAndyBiggsAZ GovernorQuinn SenBobCorker RepAndyHarrisMD RepThompson RepRutherfordFL repsandylevin JuliaBrownley26 RepDougCollins MacTXPress RepAndreCarson GovKitz RepDebDingell PattyMurray KYComer sethmoulton RepDonBacon RepMcClintock SenHydeSmith RepKihuen RepJimmyGomez RepMcNerney RepHultgren CongPalazzo SenGillibrand PeterRoskam SenRonJohnson TXRandy14 Clyburn DarrellIssa RepRodBlum RepMaxineWaters boblatta RepCardenas BradSherman RepRickAllen RepTomGarrett RepKayGranger HFACDemocrats JimLangevin SenatorBurr RepMikeTurner RepMarciaFudge SenatorTimScott SenatorRisch RepRoKhanna RepSeanMaloney RepMGriffith SenateDems TGowdySC SenDuckworth RepSamGraves SenDanSullivan dinatitus lisamurkowski RepGraceMeng AppropsDems WaysandMeansGOP DalrympleforGov SenPatRoberts RepAlexMooney RodneyDavis RepConorLamb SenJeffMerkley RepBobGibbs davereichert RepSinema DaveEHeineman RepBera HouseBudgetDems GovernorDeal RepLukeMesser RepValDemings RepJohnYarmuth RepJudyChu RepAlLawsonJr GovPeterShumlin RepTedLieu RepComstock SenatorTester JimPressOffice Call_Me_Dutch VernBuchanan RepSusanDavis SenSanders repdavidscott CoryBooker RepVisclosky SenatorDurbin SenatorCantwell SenDeanHeller SenStabenow MikeKellyPA RepDianeBlack JudgeTedPoe RepJuanVargas RepGoodlatte RepDavidEPrice RepDWStweets SenCortezMasto RepLujanGrisham NydiaVelazquez FrankPallone RepJoeWilson EdWorkforce SenSherrodBrown JeffFortenberry SASCMajority SenateBudget RepRooney RepLowenthal RepJasonLewis USRepLong RepRichardNeal RosLehtinen RepThomasMassie RepEvanJenkins rosadelauro RepJBridenstine RepublicanStudy RoyBlunt USRepKCastor RepBlainePress ConawayTX11 RepFilemonVela SenJoniErnst CongressmanHice RepMikeJohnson RepStephMurphy DrNealDunnFL2 BobbyScott HouseAdmnGOP RepTomMacArthur RepFredUpton RepJohnLarson RepBuddyCarter repdinatitus JECDems SenJohnBarrasso RepSteveChabot SenJohnMcCain RepRoybalAllard NitaLowey RepHankJohnson HispanicCaucus RepMcGovern EnergyGOP RepFrenchHill RepStephenLynch JaredHuffman repdonyoung RepBarbaraLee RepAndyBarr RepKarenBass SenShelby USRepRodney SenatorHeitkamp JohnBoozman RepKathleenRice ScottWalker RepKenMarchant SenBlumenthal replouiegohmert SenatorShaheen RepMarshall RepBillFlores SenToomey RepWesterman keithellison SciCmteDems RepMcCaul RepDaveBrat SenatorRounds MarkPocan RepJayapal edworkforcedems RepTomEmmer RepChuck RepJeffries rep_stevewomack RepCarbajal senorrinhatch RepAnthonyBrown RepJohnDuncanJr RepJoeBarton RepKClark LindseyGrahamSC RepDrewFerguson CongressmanRaja RepAmata RepPaulCook RepKHandel RepYvetteClarke RepGaramendi FrankDLucas RepTomRice RepTrentKelly RepLoisFrankel SenSasse SenToddYoung HouseForeign NancyPelosi OversightDems TransportDems SenMarkey SteveDaines RepChrisCollins BettyMcCollum04 GovRBentley RepRaskin RepGrothman SenAlexander SenateDoctors CongressmanRuiz GovernorCorbett RepFrankLucas RepGregoryMeeks DevinNunes CongCulberson RepLaHood Gov_Martinez SenatorMenendez RepGonzalez RepByrne gracenapolitano HouseAgNews GovernorVA HurdOnTheHill RepTimRyan JudgeCarter SenatorCollins MarkWarner RepPeteKing RepCuellar SenDonnelly RepShimkus RepLeeZeldin RepMiaLove Jim_Jordan RepMarthaRoby SenCapito RepDwightEvans maziehirono RepAdamSmith RepGuthrie repmarkpocan brianschweitzer RepGeneGreen RepRubenGallego WaysMeansCmte GreggHarper Rep_Hunter InhofePress McConnellPress RepLarryBucshon HASCDemocrats RepMikeBishop RoKhanna DWStweets RepDarrenSoto dscc RepVeasey congbillposey RepZoeLofgren LamarSmithTX21 GovernorMarkell HASCRepublicans RepLoudermilk RepMcEachin MartinHeinrich RepHastingsFL RepAdamSchiff RepWalberg RepJaredPolis RepRichHudson DrPhilRoe RepSarbanes repcleaver RepPeteAguilar JECRepublicans repblumenauer DorisMatsui TulsiPress RepRonEstes timkaine marcorubio NormaJTorres RepJeffDuncan RepBrianBabin RepHartzler RepLipinski RepJasonSmith GovJayNixon RepJeffDenham nikiinthehouse RepLaMalfa SteveScalise RepEdRoyce RepJimBanks RepDonaldPayne SenBillNelson RepAbraham RepBrendanBoyle JohnKasich RepHalRogers RepDanKildee RepHuizenga SenatorLeahy RepMattGaetz ChrisVanHollen USRepGaryPalmer RepRobBishop RepScottPeters jahimes PatrickMcHenry RepRussell Tim_Walz RepMullin SenCoonsOffice NYGovCuomo SenBobCasey RepKevinBrady GovMattBevin TerryBranstad GKButterfield SpeakerRyan RepJohnFaso RepMoolenaar RepEspaillat RepJohnKatko GovHerbert repjohnlewis HouseHomeland SenatorHassan RepSheaPorter RepLindaSanchez RepBost GovMalloyOffice TomRooney senrobportman stabenow brianschatz clairecmc RepDannyDavis SenatorTomUdall Robert_Aderholt virginiafoxx RepBRochester RepCheri KenCalvert RepRohrabacher RepLouCorrea amyklobuchar RepAnnaEshoo RepLawrence HouseJudDems SteveKingIA RepMikeRogersAL CongMikeSimpson RepMarkWalker RepGarretGraves RepTerriSewell HouseGOP RepJackyRosen RepTedYoho SenatorCardin StaceyPlaskett RepRonKind RepMarcyKaptur RobWittman JoaquinCastrotx SenMikeLee RepDelBene RepPittenger HaleyBarbour SenatorLankford RepSchrader RepRatcliffe RepJimRenacci SenWhitehouse HouseScience MarshaBlackburn RepMoBrooks RepMcKinley JacksonLeeTX18 SenateAgDems ButchOtter RepKenBuck RepDavidKustoff SusanWBrooks RepEliotEngel RepLoBiondo RepJoeCourtney johnculberson RepBrianHiggins SenThomTillis EnergyCommerce RepLloydDoggett BillCassidy repdavetrott RepJimmyPanetta SenSchumer RepSanfordSC DesJarlaisTN04 RepErikPaulsen SteveKnight25 RepDianaDeGette SenateMajLdr RepPaulTonko RepAdams RepBonnie JerryMoran MarioDB RepCummings RepMaloney BillPascrell RepTomSuozzi RepArrington RepCharlieCrist HouseCommerce SenTinaSmith Transport CongressmanGT RepEBJ RepBillJohnson BetoORourke MassGovernor RepTedDeutch CongBoyle RepDevinNunes RepSchneider SenFeinstein SeanParnellAK SenatorFischer DonaldNorcross RepHuffman SenKamalaHarris SenateBanking SenJohnThune RepDonBeyer repbenraylujan USRepKeating RepTomReed SanfordBishop PeteSessions SenJackReed WhipHoyer RepBobbyRush SenatorCarper RepWilson RepCartwright FinancialCmte RepChrisSmith RepSpeier HouseVetAffairs RepRichmond LacyClayMO1 RepMikeCoffman RonWyden RepBradWenstrup RepEsty GovRickSnyder RepStefanik RepSwalwell DougLaMalfa SenAngusKing RepNewhouse SenatorWicker hickforco RepWebster RepAlGreen RepLizCheney RepPeteOlson Raul_Labrador RepGallagher GOPLeader SenWarren SenJohnHoeven RepChrisStewart RepPeterDeFazio Sen_JoeManchin SenDougJones RepDeSaulnier RepKevinCramer RepGwenMoore RepClayHiggins TomColeOK04 GovMaryFallin EnergyDems daveloebsack RepRickLarsen RepRickCrawford RepBeatty GovJeffColyer BennieGThompson RepJohnConyers RulesReps RepSeanDuffy ToddRokita WarrenDavidson MarkAmodeiNV2 KeithRothfus RepMarkMeadows RepRaulGrijalva RepKevinYoder RepWalterJones JohnCarneyDE RepKinzinger justinamash SenTedCruz RepMarkTakano jaredpolis PatTiberi BrianSandoval RepMikeCapuano RepMikeQuigley RepJackBergman RepTimWalz JeffFlake cathymcmorris RepTrey RandPaul RepJenniffer GovWalker RepCohen SenatorBaldwin RepLanceNJ7 janschakowsky repjimcooper RepAnnWagner RepRobWoodall RepSmucker RepHanabusa RobinLynneKelly RepPerlmutter RepJerryNadler MikeCrapo RepGusBilirakis DanaRohrabacher SenatorIsakson JimInhofe RepJoshG davidcicilline SenCoryGardner USRepMikeDoyle USRepRickNolan RepDLamborn MEGovernorNews RepMcSally RepPaulMitchell RepStevePearce RepBrady RepTedBudd SenTomCotton RepGosar RepDavidYoung SenateGOP repgregwalden RepDavid SenGaryPeters IndianCommittee RepTipton RepPoliquin RepScottTaylor RepLynnJenkins SDGovDaugaard BillHaslam louiseslaughter RepCicilline RepHensarling RepAnnieKuster SamsPressShop BobMcDonnell JerryBrownGov RepBillFoster RepRWilliams RepDennyHeck RepBrianFitz GovMarkDayton RepRobinKelly RepOHalleran PrayerCaucus ChuckGrassley PeterWelch RepMimiWalters neilabercrombie RepTomMarino EleanorNorton RepTenney RepDennisRoss GovGregoire RepScottPerry SenBrianSchatz RepRalphNorman RepRyanCostello BobbyJindal dandonovan_ny RepJohnDelaney RepWalorski GovChristie ChrisCoons OHPressSec michaelcburgess RepTomGraves GrahamBlog GerryConnolly GovAbbott HomelandDems SenBennetCO chelliepingree RepHolding MikeBeebeAR sendavidperdue HouseDemocrats RepDeSantis ChrisMurphyCT RepDavidRouzer RepJoeKennedy aguilarpete RepDerekKilmer RepBrianMast RepGutierrez RepBillShuster RepDaveJoyce GovBrewer RepDavidValadao repjoecrowley RepJoseSerrano RepBarragan RepJimCosta RepSteveStivers HerreraBeutler RepLouBarletta RepSires RepCurbelo RothfusForPA RepBonamici RepCharlieDent RepAdrianSmith RepBetoORourke SenJohnKennedy RepKristiNoem JohnCornyn'\n",
    "users = users.split()"
   ]
  },
  {
   "cell_type": "code",
   "execution_count": null,
   "metadata": {},
   "outputs": [
    {
     "name": "stdout",
     "output_type": "stream",
     "text": [
      "Starting word cloud generation \n"
     ]
    },
    {
     "data": {
      "application/vnd.jupyter.widget-view+json": {
       "model_id": "358fcfe894a344588d6e355f87c7567e",
       "version_major": 2,
       "version_minor": 0
      },
      "text/plain": [
       "HBox(children=(IntProgress(value=0, max=645), HTML(value='')))"
      ]
     },
     "metadata": {},
     "output_type": "display_data"
    },
    {
     "data": {
      "application/vnd.jupyter.widget-view+json": {
       "model_id": "a32e012a56f74810b4cd9439ee0c993f",
       "version_major": 2,
       "version_minor": 0
      },
      "text/plain": [
       "HBox(children=(IntProgress(value=0, max=2444), HTML(value='')))"
      ]
     },
     "metadata": {},
     "output_type": "display_data"
    },
    {
     "name": "stderr",
     "output_type": "stream",
     "text": [
      "/Users/kbernardini/anaconda3/lib/python3.6/site-packages/wordcloud/wordcloud.py:370: UserWarning:\n",
      "\n",
      "mask image should be unsigned byte between 0 and 255. Got a float array\n",
      "\n"
     ]
    },
    {
     "name": "stdout",
     "output_type": "stream",
     "text": [
      "<wordcloud.wordcloud.WordCloud object at 0x10ee6e2e8>\n"
     ]
    },
    {
     "data": {
      "application/vnd.jupyter.widget-view+json": {
       "model_id": "82ce401fed80401fba39acdabcf1ba61",
       "version_major": 2,
       "version_minor": 0
      },
      "text/plain": [
       "HBox(children=(IntProgress(value=0, max=3227), HTML(value='')))"
      ]
     },
     "metadata": {},
     "output_type": "display_data"
    },
    {
     "name": "stdout",
     "output_type": "stream",
     "text": [
      "Error at SenatorEnzi\n"
     ]
    },
    {
     "data": {
      "application/vnd.jupyter.widget-view+json": {
       "model_id": "b054898d2f8a410f8bb823f442aa022b",
       "version_major": 2,
       "version_minor": 0
      },
      "text/plain": [
       "HBox(children=(IntProgress(value=0, max=2811), HTML(value='')))"
      ]
     },
     "metadata": {},
     "output_type": "display_data"
    },
    {
     "name": "stdout",
     "output_type": "stream",
     "text": [
      "<wordcloud.wordcloud.WordCloud object at 0x10f331630>\n"
     ]
    },
    {
     "data": {
      "application/vnd.jupyter.widget-view+json": {
       "model_id": "aee7d40f10484e19a7d8b8077db92724",
       "version_major": 2,
       "version_minor": 0
      },
      "text/plain": [
       "HBox(children=(IntProgress(value=0, max=2055), HTML(value='')))"
      ]
     },
     "metadata": {},
     "output_type": "display_data"
    },
    {
     "name": "stdout",
     "output_type": "stream",
     "text": [
      "<wordcloud.wordcloud.WordCloud object at 0x109f5aef0>\n"
     ]
    },
    {
     "data": {
      "application/vnd.jupyter.widget-view+json": {
       "model_id": "127625869e8645f29171fabe684527ad",
       "version_major": 2,
       "version_minor": 0
      },
      "text/plain": [
       "HBox(children=(IntProgress(value=0, max=3217), HTML(value='')))"
      ]
     },
     "metadata": {},
     "output_type": "display_data"
    },
    {
     "name": "stdout",
     "output_type": "stream",
     "text": [
      "<wordcloud.wordcloud.WordCloud object at 0x10af1e1d0>\n"
     ]
    },
    {
     "data": {
      "application/vnd.jupyter.widget-view+json": {
       "model_id": "6ce984d2cf47482d81c766c74145d4ab",
       "version_major": 2,
       "version_minor": 0
      },
      "text/plain": [
       "HBox(children=(IntProgress(value=0, max=2852), HTML(value='')))"
      ]
     },
     "metadata": {},
     "output_type": "display_data"
    },
    {
     "name": "stdout",
     "output_type": "stream",
     "text": [
      "<wordcloud.wordcloud.WordCloud object at 0x10b6dbe48>\n"
     ]
    },
    {
     "data": {
      "application/vnd.jupyter.widget-view+json": {
       "model_id": "6fef5490704a431082f005f0f5c37f67",
       "version_major": 2,
       "version_minor": 0
      },
      "text/plain": [
       "HBox(children=(IntProgress(value=0, max=3250), HTML(value='')))"
      ]
     },
     "metadata": {},
     "output_type": "display_data"
    },
    {
     "name": "stdout",
     "output_type": "stream",
     "text": [
      "<wordcloud.wordcloud.WordCloud object at 0x10b34fb38>\n"
     ]
    }
   ],
   "source": [
    "bad = []\n",
    "print(\"Starting word cloud generation \")\n",
    "for user in tqdm(users):\n",
    "    try:\n",
    "        make_cloud(user)\n",
    "    except:\n",
    "        print(\"Error at {}\".format(user))\n",
    "        bad += [user]"
   ]
  },
  {
   "cell_type": "code",
   "execution_count": null,
   "metadata": {},
   "outputs": [],
   "source": [
    "ht_df = make_cloud(user)"
   ]
  },
  {
   "cell_type": "code",
   "execution_count": null,
   "metadata": {},
   "outputs": [],
   "source": []
  },
  {
   "cell_type": "code",
   "execution_count": null,
   "metadata": {},
   "outputs": [],
   "source": [
    "xs = OrdinalScale()\n",
    "ys = LinearScale()\n",
    "\n",
    "bar = Bars(x=ht_df.index.values[:10], y=ht_df.pos.values[:10], scales={'x': xs, 'y': ys}, padding=0.2, type='grouped')\n",
    "xax = Axis(scale=xs)\n",
    "yax = Axis(scale=ys, orientation='vertical', tick_format='0.0%', grid_lines='solid')\n",
    "fig = Figure(marks=[bar], axes=[xax, yax], animation_duration=1000, )\n",
    "fig.layout.width = '1200px'\n",
    "fig"
   ]
  },
  {
   "cell_type": "code",
   "execution_count": 65,
   "metadata": {},
   "outputs": [
    {
     "data": {
      "image/png": "[encoded data removed]",
      "text/plain": [
       "<matplotlib.figure.Figure at 0x112ee80b8>"
      ]
     },
     "metadata": {},
     "output_type": "display_data"
    }
   ],
   "source": [
    "tags = ht_df.index.values[:10]\n",
    "pos_tags = ht_df.pos.values[:10]\n",
    "y_pos = np.arange(len(tags))\n",
    "fig, ax = plt.subplots(figsize=(15,15))\n",
    "ax.barh(y_pos ,pos_tags, align='center',\n",
    "        color='#00aced', ecolor='black')\n",
    "ax.set_yticks(y_pos)\n",
    "ax.set_xlabel('Sentiment', fontsize=20)\n",
    "ax.set_yticklabels(tags, fontsize=20)\n",
    "ax.invert_yaxis()\n",
    "fig.savefig('{}_bar_chart.png'.format(user), transparent=True)"
   ]
  },
  {
   "cell_type": "code",
   "execution_count": null,
   "metadata": {},
   "outputs": [],
   "source": []
  }
 ],
 "metadata": {
  "kernelspec": {
   "display_name": "Python 3",
   "language": "python",
   "name": "python3"
  },
  "language_info": {
   "codemirror_mode": {
    "name": "ipython",
    "version": 3
   },
   "file_extension": ".py",
   "mimetype": "text/x-python",
   "name": "python",
   "nbconvert_exporter": "python",
   "pygments_lexer": "ipython3",
   "version": "3.6.3"
  }
 },
 "nbformat": 4,
 "nbformat_minor": 2
}
